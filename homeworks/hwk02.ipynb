{
 "cells": [
  {
   "cell_type": "markdown",
   "metadata": {},
   "source": [
    "# MAT281 - Tarea 2"
   ]
  },
  {
   "cell_type": "markdown",
   "metadata": {},
   "source": [
    "**Indicaciones**:\n",
    "\n",
    "* En los **Ejercicio 1-8** puedes utilizar tanto `matplotlib` como `altair` según te parezca más conveniente o cómodo, en ambos casos cada gráfico debe tener elementos mínimos como:\n",
    "    - Título\n",
    "    - Nombre de los ejes, leyendas, etc. en formato _amigable_/_humano_, por ejemplo, si la columna del dataframe en cuestión tiene por nombre `casos_confirmados` se espera que el eje del gráfico tenga por nombre `Casos confirmados`.\n",
    "    - Colores adecuados al tipo de datos.\n",
    "    - Un tamaño adecuado para ver con facilidad en una pantalla con resolución HD o FullHD.\n",
    "    - Cada vez que no se cumplan alguna de estos requerimientos se descontará __1 punto__ de la nota final.\n",
    "\n",
    "* Para el **Ejercicio 9** es obligación utilizar `altair`.\n",
    "* Cada ejercicio debe estar acompañado con una celda con comentarios o análisis que puedas desprender de los gráficos."
   ]
  },
  {
   "cell_type": "code",
   "execution_count": null,
   "metadata": {},
   "outputs": [],
   "source": [
    "import numpy as np\n",
    "import pandas as pd\n",
    "import matplotlib.pyplot as plt\n",
    "import altair as alt\n",
    "import ipywidgets as widgets\n",
    "\n",
    "from datetime import date\n",
    "from ipywidgets import interactive, interact\n",
    "\n",
    "pd.set_option('display.max_columns', 999)\n",
    "alt.data_transformers.disable_max_rows()\n",
    "#alt.data_transformers.enable('data_server')\n",
    "alt.themes.enable('opaque')\n",
    "\n",
    "%matplotlib inline"
   ]
  },
  {
   "cell_type": "markdown",
   "metadata": {},
   "source": [
    "**COVID-19 en Chile** \n",
    "\n",
    "En esta tarea exploraremos los datos de Covid-19 en Chile a profundidad. Las siguientes celdas cargarán los datos a utilizar en tu sesión. Es importante que leas la documentación de cada conjunto de datos para comprender las columnas."
   ]
  },
  {
   "cell_type": "code",
   "execution_count": null,
   "metadata": {},
   "outputs": [],
   "source": [
    "start_date = pd.to_datetime(\"2020-04-13\")"
   ]
  },
  {
   "cell_type": "code",
   "execution_count": null,
   "metadata": {},
   "outputs": [],
   "source": [
    "# https://github.com/MinCiencia/Datos-COVID19/tree/master/output/producto6\n",
    "confirmados = (\n",
    "    pd.read_csv(\"https://raw.githubusercontent.com/MinCiencia/Datos-COVID19/master/output/producto6/bulk/data.csv\")\n",
    "    .rename(columns=lambda x: x.lower().replace(\" \", \"_\"))\n",
    "    .assign(fecha=lambda x: pd.to_datetime(x[\"fecha\"]))\n",
    "    .loc[lambda x: x[\"fecha\"] >= start_date]\n",
    "    .dropna()\n",
    "    .astype({\"casos_confirmados\": np.float, \"tasa\": np.float})\n",
    ")\n",
    "\n",
    "confirmados.head()"
   ]
  },
  {
   "cell_type": "code",
   "execution_count": null,
   "metadata": {},
   "outputs": [],
   "source": [
    "# https://github.com/MinCiencia/Datos-COVID19/tree/master/output/producto19\n",
    "activos = (\n",
    "    pd.read_csv(\"https://raw.githubusercontent.com/MinCiencia/Datos-COVID19/master/output/producto19/CasosActivosPorComuna.csv\")\n",
    "    .rename(columns=lambda x: x.lower().replace(\" \", \"_\"))\n",
    "    .loc[lambda x: x[\"codigo_comuna\"].notnull()]\n",
    "    .melt(id_vars=[\"region\", \"codigo_region\", \"comuna\", \"codigo_comuna\", \"poblacion\"], var_name=\"fecha\", value_name=\"casos_activos\")\n",
    "    .assign(fecha=lambda x: pd.to_datetime(x[\"fecha\"]))\n",
    "    .loc[lambda x: x[\"fecha\"] >= start_date]\n",
    ")\n",
    "\n",
    "activos.head()"
   ]
  },
  {
   "cell_type": "code",
   "execution_count": null,
   "metadata": {},
   "outputs": [],
   "source": [
    "# https://github.com/MinCiencia/Datos-COVID19/tree/master/output/producto14\n",
    "fallecidos = (\n",
    "    pd.read_csv(\"https://raw.githubusercontent.com/MinCiencia/Datos-COVID19/master/output/producto14/FallecidosCumulativo.csv\")\n",
    "    .rename(columns=lambda x: x.lower().replace(\" \", \"_\"))\n",
    "    .melt(id_vars=[\"region\"], var_name=\"fecha\", value_name=\"fallecidos\")\n",
    "    .assign(\n",
    "        fecha=lambda x: pd.to_datetime(x[\"fecha\"]),\n",
    "    )\n",
    "    .loc[lambda x: x[\"fecha\"] >= start_date]\n",
    ")\n",
    "\n",
    "fallecidos = fallecidos.drop(fallecidos.query(\"region == 'Total'\").index)\n",
    "\n",
    "fallecidos.head()"
   ]
  },
  {
   "cell_type": "code",
   "execution_count": null,
   "metadata": {},
   "outputs": [],
   "source": [
    "fallecidos[\"region\"].unique()"
   ]
  },
  {
   "cell_type": "code",
   "execution_count": null,
   "metadata": {},
   "outputs": [],
   "source": [
    "# https://github.com/MinCiencia/Datos-COVID19/tree/master/output/producto10\n",
    "fallecidos_etareo = (\n",
    "    pd.read_csv(\"https://raw.githubusercontent.com/MinCiencia/Datos-COVID19/master/output/producto10/FallecidosEtario.csv\")\n",
    "    .rename(columns=lambda x: x.lower().replace(\" \", \"_\"))\n",
    "    .melt(id_vars=[\"grupo_de_edad\"], var_name=\"fecha\", value_name=\"fallecidos\")\n",
    "    .assign(\n",
    "        fecha=lambda x: pd.to_datetime(x[\"fecha\"]),\n",
    "        grupo_de_edad=lambda x: x[\"grupo_de_edad\"].str.replace(\"<=39\", \"0-39\")\n",
    "    )\n",
    "    .loc[lambda x: x[\"fecha\"] >= start_date]\n",
    ")\n",
    "\n",
    "fallecidos_etareo.head()"
   ]
  },
  {
   "cell_type": "markdown",
   "metadata": {},
   "source": [
    "## Ejercicio 1\n",
    "\n",
    "(10 puntos)\n",
    "\n",
    "Mostrar cantidad de fallecidos a la fecha por cada grupo etáreo."
   ]
  },
  {
   "cell_type": "code",
   "execution_count": null,
   "metadata": {},
   "outputs": [],
   "source": [
    "# Create a selection that chooses the nearest point & selects based on x-value\n",
    "nearest = alt.selection(type='single', nearest=True, on='mouseover',\n",
    "                        fields=['fecha'], empty='none')\n",
    "\n",
    "# Grafico de Lineas\n",
    "line = alt.Chart(fallecidos_etareo).mark_line(interpolate='basis').encode(\n",
    "    x=alt.X('fecha', title=\"Fecha\"), \n",
    "    y=alt.Y('fallecidos:Q', title=\"Fallecidos\"),\n",
    "    color=alt.Color('grupo_de_edad:N', title=\"Grupo Etáreo\",scale=alt.Scale(scheme='category10'))\n",
    ")\n",
    "\n",
    "# Transparent selectors across the chart. This is what tells us\n",
    "# the x-value of the cursor\n",
    "selectors = alt.Chart(fallecidos_etareo).mark_point().encode(\n",
    "    x='fecha',\n",
    "    opacity=alt.value(0),\n",
    ").add_selection(\n",
    "    nearest\n",
    ")\n",
    "\n",
    "# Draw points on the line, and highlight based on selection\n",
    "points = line.mark_point().encode(\n",
    "    opacity=alt.condition(nearest, alt.value(1), alt.value(0))\n",
    ")\n",
    "\n",
    "# Draw text labels near the points, and highlight based on selection\n",
    "text = line.mark_text(align='left', dx=5, dy=-5).encode(\n",
    "    text=alt.condition(nearest, 'fallecidos:Q', alt.value(' '))\n",
    ")\n",
    "\n",
    "text2 = alt.Chart(fallecidos_etareo).mark_text(align='left', dx=-200, dy=-100, size=20).encode(\n",
    "    text=alt.condition(nearest, 'fecha', alt.value(' '))\n",
    ")\n",
    "\n",
    "# Draw a rule at the location of the selection\n",
    "rules = alt.Chart(fallecidos_etareo).mark_rule(color='firebrick').encode(\n",
    "    x='fecha',\n",
    ").transform_filter(\n",
    "    nearest\n",
    ")\n",
    "\n",
    "# Put the five layers into a chart and bind the data\n",
    "ev_grupo=alt.layer(\n",
    "    line, selectors, points, rules, text, text2\n",
    ").properties(\n",
    "    title=\"Evolución de Fallecidos por Grupo Etáreo\",\n",
    "     height=300\n",
    ").interactive()\n",
    "\n",
    "ev_grupo"
   ]
  },
  {
   "cell_type": "markdown",
   "metadata": {},
   "source": [
    "**Comentarios:** Podemos ver que, los grupos de mayor edad tienen mas fallecidos, excepto el grupo de personas con edades mayores o iguales a 80, esto se puede deber a que el porcentaje de la poblacion de Chile que se encuentra en este grupo etareo es muy baja. "
   ]
  },
  {
   "cell_type": "markdown",
   "metadata": {},
   "source": [
    "## Ejercicio 2\n",
    "\n",
    "(10 puntos)\n",
    "\n",
    "¿Qué tan variable es la población de las comunas de Chile? Considera utilizar un gráfico que resuma de buena forma la información sin agregar la variable de región o provincia."
   ]
  },
  {
   "cell_type": "code",
   "execution_count": null,
   "metadata": {},
   "outputs": [],
   "source": [
    "bar = alt.Chart(activos).mark_bar().encode(\n",
    "    x=alt.X(\"comuna:N\", title=\"Comuna\"),\n",
    "    y=alt.Y(\"poblacion:Q\", title=\"Población\"),\n",
    "    tooltip=[alt.Tooltip(\"poblacion\", title=\"Población\"), alt.Tooltip(\"comuna\",title=\"Comuna\")]\n",
    ")\n",
    "\n",
    "rule = alt.Chart(activos).mark_rule(color='firebrick').encode(\n",
    "    y='mean(poblacion):Q',\n",
    "    size=alt.SizeValue(3)\n",
    ")\n",
    "\n",
    "(bar + rule).properties(\n",
    "    title=\"Población por Comuna\").interactive() #p!rule34 donkey kong "
   ]
  },
  {
   "cell_type": "code",
   "execution_count": null,
   "metadata": {},
   "outputs": [],
   "source": [
    "std=round(np.std(activos[\"poblacion\"]),2)\n",
    "mean=round(np.mean(activos[\"poblacion\"]),2)\n",
    "print(f\"El promedio de población en las comunas de Chile es: {mean}\") \n",
    "print(f\"La desviación estandar de población en las comunas de Chile es: {std}\")"
   ]
  },
  {
   "cell_type": "markdown",
   "metadata": {},
   "source": [
    "**Comentarios:** El grafico y la desviación estandar nos dicen que la poblacion por comuna en Chile es muy variable. La mayoria de comunas estan por debajo del promedio de población, pero las comunas con mas habitantes estan muy por encima, lo que resulta en la alta desviacion estandar."
   ]
  },
  {
   "cell_type": "markdown",
   "metadata": {},
   "source": [
    "## Ejercicio 3\n",
    "\n",
    "(10 puntos)\n",
    "\n",
    "Mostrar evolución y comparación de los fallecimientos entre distintos grupos etáreos, pero que al mismo tiempo sea fácil identificar la cantidad de fallecidos total en cada fecha."
   ]
  },
  {
   "cell_type": "code",
   "execution_count": null,
   "metadata": {},
   "outputs": [],
   "source": [
    "cercano = alt.selection(type='single', nearest=True, on='mouseover',\n",
    "                        fields=['fecha'], empty='none')\n",
    "\n",
    "# Grafico de Lineas\n",
    "lineas = alt.Chart(fallecidos).mark_line(interpolate='basis', color= \"black\").encode(\n",
    "    x=alt.X('fecha', title=\"Fecha\"), \n",
    "    y=alt.Y('sum(fallecidos):Q', title=\"Fallecidos\")\n",
    ")\n",
    "\n",
    "# Transparent selectors across the chart. This is what tells us\n",
    "# the x-value of the cursor\n",
    "selectores = alt.Chart(fallecidos).mark_point().encode(\n",
    "    x='fecha',\n",
    "    opacity=alt.value(0),\n",
    ").add_selection(\n",
    "    cercano\n",
    ")\n",
    "\n",
    "# Draw points on the line, and highlight based on selection\n",
    "puntos = lineas.mark_point().encode(\n",
    "    opacity=alt.condition(cercano, alt.value(1), alt.value(0))                          #GRAFICO EVOLUCION DE FALLECIDOS TOTAL\n",
    ")\n",
    "\n",
    "# Draw text labels near the points, and highlight based on selection\n",
    "texto = lineas.mark_text(align='left', dx=5, dy=-5).encode(\n",
    "    text=alt.condition(cercano, \"sum(fallecidos):Q\", alt.value(' '))\n",
    ")\n",
    "\n",
    "texto2 = alt.Chart(fallecidos_etareo).mark_text(align='left', dx=-200, dy=-100, size=20).encode(\n",
    "    text=alt.condition(cercano, \"fecha\", alt.value(' '))\n",
    ")\n",
    "\n",
    "# Draw a rule at the location of the selection\n",
    "reglas = alt.Chart(fallecidos).mark_rule(color='firebrick').encode(\n",
    "    x='fecha',\n",
    ").transform_filter(\n",
    "    cercano\n",
    ")\n",
    "\n",
    "# Put the five layers into a chart and bind the data\n",
    "ev_total=alt.layer(\n",
    "    lineas, selectores, puntos, reglas, texto, texto2\n",
    ").properties(\n",
    "    title = \"Evolución del Total de Fallecidos\",\n",
    "     height=300\n",
    ")"
   ]
  },
  {
   "cell_type": "code",
   "execution_count": null,
   "metadata": {},
   "outputs": [],
   "source": [
    "ev_grupo | ev_total"
   ]
  },
  {
   "cell_type": "markdown",
   "metadata": {},
   "source": [
    "**Comentarios:** Con estos graficos podemos verificar que, por fecha, el total de fallecidos es la suma de los fallecidos por grupo etáreo."
   ]
  },
  {
   "cell_type": "markdown",
   "metadata": {},
   "source": [
    "## Ejercicio 4\n",
    "\n",
    "(10 puntos)\n",
    "\n",
    "Mostrar en tres gráficos la evolución de casos confirmados, evolución de fallecimientos y evolución de casos activos."
   ]
  },
  {
   "cell_type": "code",
   "execution_count": null,
   "metadata": {},
   "outputs": [],
   "source": [
    "Casos_confirmados=alt.Chart(confirmados).mark_line().encode(\n",
    "                x=alt.X(\"fecha\", title=\"Fecha\"),\n",
    "                y=alt.Y(\"sum(casos_confirmados):Q\", title=\"Casos Confirmados\")\n",
    ").properties(\n",
    "                title=\"Evolución Casos Confirmados\",\n",
    "                \n",
    ")\n",
    "\n",
    "\n",
    "\n",
    "\n",
    "Ev_fallecidos=alt.Chart(fallecidos).mark_line().encode(\n",
    "                x=alt.X(\"fecha\", title=\"Fecha\"),\n",
    "                y=alt.Y(\"sum(fallecidos)\", title=\"Fallecidos\")\n",
    ").properties(\n",
    "                title=\"Evolucion Fallecidos\",\n",
    "                \n",
    ")\n",
    "\n",
    "\n",
    "\n",
    "\n",
    "Casos_activos=alt.Chart(activos).mark_line().encode(\n",
    "                x=alt.X(\"fecha\", title=\"Fecha\"),\n",
    "                y=alt.Y(\"sum(casos_activos)\", title=\"Casos Activos\"),\n",
    ").properties(\n",
    "                title=\"Evolucion Casos Activos\",\n",
    "                \n",
    ")\n",
    "\n",
    "\n",
    "\n",
    "Casos_confirmados | Ev_fallecidos | Casos_activos"
   ]
  },
  {
   "cell_type": "markdown",
   "metadata": {},
   "source": [
    "**Comentarios:** Los casos activos y los casos confirmados, al ser valores acumulados en el tiempo, tiene sentido que sus graficas sean curvas crecientes. La evolución de los casos activos nos muestra lo rapido que aumentaron los casos en Chile, y, la reacción frente a el aumento de casos. "
   ]
  },
  {
   "cell_type": "markdown",
   "metadata": {},
   "source": [
    "## Ejercicio 5\n",
    "\n",
    "(10 puntos)\n",
    "\n",
    "Comparar la tasa de incidencia entre las regiones a lo largo del tiempo."
   ]
  },
  {
   "cell_type": "code",
   "execution_count": null,
   "metadata": {},
   "outputs": [],
   "source": [
    "highlight = alt.selection(type='single', on='mouseover',\n",
    "                          fields=['region'], nearest=True)\n",
    "\n",
    "base = alt.Chart(confirmados).encode(\n",
    "    x=alt.X(\"fecha\",title=\"Fecha\"),\n",
    "    y=alt.Y(\"sum(tasa):Q\",title=\"Tasa de Incidencia\"),\n",
    "    color=alt.Color(\"region:N\",title=\"Region\",scale=alt.Scale(scheme='category20')),\n",
    "    tooltip=[alt.Tooltip(\"sum(tasa):Q\", title=\"Tasa de Incidencia\"), alt.Tooltip(\"fecha\",title=\"Fecha\"), alt.Tooltip(\"region\", title=\"Region\")]\n",
    ").properties(\n",
    "    title=\"Evolución de Tasa de Incidencia por Region\",\n",
    "    width=800,\n",
    "    height=600\n",
    ")\n",
    "\n",
    "points = base.mark_circle().encode(\n",
    "    opacity=alt.value(0)\n",
    ").add_selection(\n",
    "    highlight\n",
    ").properties(\n",
    "    width=600\n",
    ")\n",
    "\n",
    "lines = base.mark_line().encode(\n",
    "    size=alt.condition(~highlight, alt.value(3), alt.value(6))\n",
    ")\n",
    "\n",
    "points + lines"
   ]
  },
  {
   "cell_type": "markdown",
   "metadata": {},
   "source": [
    "**Comentarios:** Los casos confirmados, al ser la suma acumulada a lo largo del tiempo de los casos confirmados, tiene sentido que la tasa de incidencia de cada region sean curvas crecientes. Por otro lado, es claro ver que las regiones con mas población tienden a tener una mayor tasa de incidencia, pero, hay algunas regiones que tienen una mayor tasa a pesar de tener menos habitantes, como es el caso de Magallanes o O'Higgins, ambas regiones tienen una mayor tasa de incidencia que otras regiones que tienen mas habitantes."
   ]
  },
  {
   "cell_type": "markdown",
   "metadata": {},
   "source": [
    "## Ejercicio 6\n",
    "\n",
    "(10 puntos)\n",
    "\n",
    "¿Hay alguna conclusión que puedas obtener rápidamente al graficar un _scatter plot_ con los casos confirmados y tasa de incidencia de cada comuna para los días 13 de abril y 6 de noviembre del 2020? Además, colorea cada punto según la región a la que pertenece y considera si es útil en el gráfico que el tamaño sea proporcional a la población."
   ]
  },
  {
   "cell_type": "code",
   "execution_count": null,
   "metadata": {},
   "outputs": [],
   "source": [
    "fecha1=confirmados.loc[lambda x: x[\"fecha\"] == \"2020-04-13\"] \n",
    "fecha2=confirmados.loc[lambda x: x[\"fecha\"] == \"2020-11-06\"]"
   ]
  },
  {
   "cell_type": "code",
   "execution_count": null,
   "metadata": {},
   "outputs": [],
   "source": [
    "df_fecha1=alt.Chart(fecha1).mark_circle().encode(\n",
    "        x=alt.X(\"casos_confirmados\", title=\"Casos Confirmados\"),\n",
    "        y=alt.Y(\"tasa\", title=\"Tasa de Incidencia\"),\n",
    "        color=alt.Color(\"region\",title=\"Región\",scale=alt.Scale(scheme='category20')),\n",
    "        size=\"poblacion\"\n",
    ").properties(\n",
    "        title=\"13 de Abril\"\n",
    ")\n",
    "\n",
    "df_fecha2=alt.Chart(fecha2).mark_circle().encode(\n",
    "        x=alt.X(\"casos_confirmados\", title=\"Casos Confirmados\"),\n",
    "        y=alt.Y(\"tasa\", title=\"Tasa de Incidencia\"),\n",
    "        color=alt.Color(\"region\",title=\"Región\",scale=alt.Scale(scheme='category20')),\n",
    "        size=\"poblacion\"\n",
    ").properties(\n",
    "        title=\"6 de Noviembre\"\n",
    ")\n",
    "\n",
    "df_fecha1 | df_fecha2"
   ]
  },
  {
   "cell_type": "markdown",
   "metadata": {},
   "source": [
    "**Comentarios:** Hay comunas con una poblacion menor o igual a 100.000 habitantes que tienen una tasa de incidencia muy grande, esto significa que hubo un mayor porcentaje de la poblacion infectada de COVID-19 en estas comunas, podemos comparar estos casos a las comunas con mas habitantes, vemos que en estas comunas mas pobladas hubieron mas casos confirmados, pero menor tasa de incedencia, porque hubo un menor porcentaje de la pobalción infectada en la comunas con mas habitantes."
   ]
  },
  {
   "cell_type": "markdown",
   "metadata": {},
   "source": [
    "## Ejercicio 7\n",
    "\n",
    "(10 puntos)\n",
    "\n",
    "1. Grafica la evolución de los casos activos de cada comuna en un solo gráfico. \n",
    "2. Grafica la evolución de los casos activos de cada comuna en gráficos separados por región.\n",
    "\n",
    "Entrega los pros y contras de cada uno de estos enfoques."
   ]
  },
  {
   "cell_type": "code",
   "execution_count": null,
   "metadata": {},
   "outputs": [],
   "source": [
    "ev1=alt.Chart(activos).mark_line().encode(\n",
    "        x=alt.X(\"fecha\", title=\"Fecha\"),\n",
    "        y=alt.Y(\"casos_activos\", title=\"Casos Activos\"),\n",
    "        color=alt.Color(\"comuna\",title=\"Comuna\",scale=alt.Scale(scheme='category20'))\n",
    ").properties(\n",
    "        title=\"Evolución de Casos Activos por Comuna\"\n",
    ")\n",
    "\n",
    "ev1"
   ]
  },
  {
   "cell_type": "code",
   "execution_count": null,
   "metadata": {},
   "outputs": [],
   "source": [
    "for i in activos.loc[:,\"region\"].unique():\n",
    "    df=activos.loc[lambda x: x[\"region\"]==i]\n",
    "    ev_comuna=alt.Chart(df).mark_line().encode(\n",
    "        x=alt.X(\"fecha\", title=\"Fecha\"),\n",
    "        y=alt.Y(\"casos_activos\", title=\"Casos Activos\"),\n",
    "        color=alt.Color(\"comuna\",title=\"Comuna\",scale=alt.Scale(scheme='category20'))\n",
    "    ).properties(\n",
    "        title=f\"Evolución de Casos Activos por Comuna en {i}\"\n",
    "    )\n",
    "    display(ev_comuna)"
   ]
  },
  {
   "cell_type": "markdown",
   "metadata": {},
   "source": [
    "**Comentarios:** Si graficamos todas las comunas en un solo grafico, en este caso, podemos comparar la evolución de los casos activos de las comunas con mas casos activos a nivel nacional, pero, estamos trabajando con demasiadas comunas, es imposible comparar entre comunas con menos casos activos a lo largo del timepo, incluso es dificil comparar las comunas con mas casos activos, ya que, los colores que corresponden a cada comuna se repiten. Por otro lado, si separamos los graficos por region, podemos ver con mas claridad la evolución de las comunas, excepto en las regiones con muchas comunas, en este caso ocurre lo mismo que si graficamos todas las comunas en un grafico, pero, si quisieramos comparar comunas de distintas regiones tendriamos que trabajar con mas de un grafico y la escala de cada grafico puede causar algun error. "
   ]
  },
  {
   "cell_type": "markdown",
   "metadata": {},
   "source": [
    "#### Ejercicio 8\n",
    "\n",
    "(10 puntos)\n",
    "\n",
    "Hacer un gráfico que permita comparar rápidamente entre regiones su promedio de casos activos , máximo de casos confirmados y fallecidos. Utiliza los valores reales y apoyarlos con colores.\n",
    "\n",
    "Se adjunta el diccionario `region_names` con tal de reemplazar los nombres de las regiones en los datos `fallecidos` para poder unir con los otros datos. "
   ]
  },
  {
   "cell_type": "code",
   "execution_count": null,
   "metadata": {},
   "outputs": [],
   "source": [
    "for pos in range(len(activos[\"region\"].unique())):\n",
    "    act = list(activos[\"region\"].unique())\n",
    "    fall = list(fallecidos[\"region\"].unique())\n",
    "    conf = list(confirmados[\"region\"].unique())\n",
    "    print(f\"{act[pos]} -- {fall[pos]} -- {conf[pos]}\")"
   ]
  },
  {
   "cell_type": "code",
   "execution_count": null,
   "metadata": {},
   "outputs": [],
   "source": [
    "region_names = {\n",
    "    \"Tarapaca\": \"Tarapacá\",\n",
    "    \"Valparaiso\": \"Valparaíso\",\n",
    "    \"Metropolitana\": \"Metropolitana de Santiago\",\n",
    "    \"O’Higgins\": \"Libertador General Bernardo O’Higgins\", \n",
    "    \"Libertador General Bernardo O'Higgins\": \"Libertador General Bernardo O’Higgins\", \n",
    "    \"Del Libertador General Bernardo O’Higgins\": \"Libertador General Bernardo O’Higgins\",\n",
    "    \"Nuble\": \"Ñuble\",\n",
    "    \"Biobio\": \"Biobío\",\n",
    "    \"Araucanía\": \"La Araucanía\",\n",
    "    \"La Araucania\": \"La Araucanía\",\n",
    "    \"Los Rios\": \"Los Ríos\",\n",
    "    \"Aysén\": \"Aysén del General Carlos Ibáñez del Campo\",\n",
    "    \"Aysen\": \"Aysén del General Carlos Ibáñez del Campo\",\n",
    "    \"Magallanes\": \"Magallanes y de la Antártica Chilena\",\n",
    "    \"Magallanes y la Antartica\": \"Magallanes y de la Antártica Chilena\"    \n",
    "}"
   ]
  },
  {
   "cell_type": "code",
   "execution_count": null,
   "metadata": {},
   "outputs": [],
   "source": [
    "activos_2=(\n",
    "    activos.drop(columns=[\"codigo_region\", \"comuna\", \"codigo_comuna\", \"poblacion\"])\n",
    "    .replace({\"region\":region_names}, inplace=False)\n",
    ")\n",
    "\n",
    "confirmados_2=(\n",
    "    confirmados.drop(columns=[\"region_id\", \"provincia_id\", \"provincia\", \"comuna_id\", \"comuna\", \"tasa\", \"poblacion\"])\n",
    "    .replace({\"region\":region_names}, inplace=False)\n",
    ")\n",
    "\n",
    "fallecidos_2=(\n",
    "    fallecidos.replace({\"region\":region_names}, inplace=False)\n",
    ")\n",
    "\n",
    "df=(\n",
    "    activos_2.merge(confirmados_2, on=[\"region\", \"fecha\"])\n",
    "    .merge(fallecidos_2, on=[\"region\", \"fecha\"])\n",
    "    .groupby([\"region\",\"fecha\"])\n",
    "    .sum().reset_index()\n",
    ")\n",
    "\n",
    "df "
   ]
  },
  {
   "cell_type": "markdown",
   "metadata": {},
   "source": [
    "**Comentarios:** "
   ]
  },
  {
   "cell_type": "markdown",
   "metadata": {},
   "source": [
    "## Ejercicio 9\n",
    "\n",
    "\n",
    "En este ejercicio buscaremos realizar un mini-dashboard respecto al estado de los casos de COVID-19 en Chile, por lo tanto utilizaremos haremos uso de datos geográficos de manera operacional (es decir, no nos preocuparemos de proyecciones en mapas ni nada por el estilo), lo único es que debes instalar `geopandas` en tu ambiente virtual y no olvidar actualizarlo en tu `environment.yml` para luego subirlo a tu repositorio de GitHub.\n",
    "\n",
    "Con tu ambiente activo (`conda activate mat281`) basta con ejecutar `conda install -c conda-forge geopandas` para instalar `geopandas`."
   ]
  },
  {
   "cell_type": "code",
   "execution_count": null,
   "metadata": {},
   "outputs": [],
   "source": [
    "import geopandas as gpd\n",
    "from pathlib import Path"
   ]
  },
  {
   "cell_type": "code",
   "execution_count": null,
   "metadata": {},
   "outputs": [],
   "source": [
    "shp_filepath = Path().resolve().parent / \"data\" / \"regiones_chile.shp\"\n",
    "regiones = gpd.read_file(shp_filepath)\n",
    "regiones"
   ]
  },
  {
   "cell_type": "code",
   "execution_count": null,
   "metadata": {},
   "outputs": [],
   "source": [
    "type(regiones)"
   ]
  },
  {
   "cell_type": "markdown",
   "metadata": {},
   "source": [
    "Lo único que tienes que saber es que un `GeoDataFrame` es idéntico a un `DataFrame` salvo que debe poseer una columna llamada `geometry` caracterice los elementros geométricos, que en este casos son polígonos con los límites de las regiones de Chile. \n",
    "\n",
    "Para graficar mapas en Altair se debe usar `mark_geoshape`, además, para no preocuparnos de las proyecciones si o si debes declarar lo siguiente que se muestra en la siguiente celda en las propiedades del gráfico. El resto es igual a cualquier otro gráfico de Altair."
   ]
  },
  {
   "cell_type": "code",
   "execution_count": null,
   "metadata": {},
   "outputs": [],
   "source": [
    "alt.Chart(regiones).mark_geoshape().encode(\n",
    ").properties(\n",
    "    projection={'type': 'identity', 'reflectY': True},\n",
    "    width=250,\n",
    "    height=600\n",
    ")"
   ]
  },
  {
   "cell_type": "markdown",
   "metadata": {},
   "source": [
    "### Ejercicio 9.1\n",
    "\n",
    "(10 puntos)\n",
    "\n",
    "Define el `DataFrame` con el nombre `casos_geo` tal que tenga las columnas\n",
    "\n",
    "* `region`\n",
    "* `codigo_region`\n",
    "* `fecha`\n",
    "* `poblacion`\n",
    "* `casos_confirmados`\n",
    "* `tasa`\n",
    "* `casos_activos`\n",
    "* `fallecidos`\n",
    "* `geometry`\n",
    "\n",
    "Ten mucho cuidado como unes los dataframes `confirmados`, `activos`, `fallecidos` y `regiones`. Idealmente utilizar el código de región, pero en caso que no se encuentren disponibles utilizar el nombre de la región (no olivdar utilizar el diccionario `region_names`)."
   ]
  },
  {
   "cell_type": "code",
   "execution_count": null,
   "metadata": {},
   "outputs": [],
   "source": [
    "activos_3 = ( #Nuevo Dataframe de activos para hacer merge\n",
    "    activos.drop(columns=[\"comuna\", \"codigo_comuna\"])\n",
    "    .groupby([\"region\", \"codigo_region\", \"fecha\"])\n",
    "    .sum().reset_index()    \n",
    "    .replace({\"region\":region_names}, inplace=False)\n",
    ")\n",
    "\n",
    "confirmados_3=( #Nuevo Dataframe de confirmados para hacer merge\n",
    "    confirmados.drop(columns=[\"provincia_id\", \"provincia\", \"comuna\", \"comuna_id\"])\n",
    "    .rename(columns={\"region_id\": \"codigo_region\"})\n",
    "    .groupby([\"region\", \"codigo_region\", \"fecha\"])\n",
    "    .sum().reset_index()\n",
    "    .replace({\"region\":region_names}, inplace=False)\n",
    ")\n",
    "\n",
    "fallecidos_3=(\n",
    "    fallecidos.replace({\"region\":region_names}, inplace=False)\n",
    ")\n",
    "\n",
    "df_aux1=( #dataframe auxiliar para hacer merge con regiones \n",
    "    activos_3.merge(confirmados_3, on=[\"region\", \"fecha\"])\n",
    "   .drop(columns=[\"codigo_region_y\", \"poblacion_y\"])\n",
    "   .rename(columns={\"codigo_region_x\": \"codigo_region\", \"poblacion_x\": \"poblacion\"})\n",
    "   .merge(fallecidos_3, on=[\"region\", \"fecha\"])\n",
    ")\n",
    "    \n",
    "regiones2=( #dataframe regiones sin columnas innecesarias para hacer merge con el datafraem auxiliar \n",
    "    regiones.rename(columns={\"codregion\": \"codigo_region\"})\n",
    "    .drop(columns=[\"Region\", \"objectid\", \"area_km\", \"st_area_sh\", \"st_length_\", \"cir_sena\"])\n",
    ")\n",
    "\n",
    "casos_geo = (\n",
    "    df_aux1.merge(regiones2, on=\"codigo_region\")\n",
    ")\n",
    "\n",
    "casos_geo.head()"
   ]
  },
  {
   "cell_type": "markdown",
   "metadata": {},
   "source": [
    "Ejecuta lo siguiente para convertir el DataFrame anterior en un GeoDataFrames"
   ]
  },
  {
   "cell_type": "code",
   "execution_count": null,
   "metadata": {},
   "outputs": [],
   "source": [
    "casos_geo = casos_geo.pipe(lambda x: gpd.GeoDataFrame(x, geometry=\"geometry\"))"
   ]
  },
  {
   "cell_type": "markdown",
   "metadata": {},
   "source": [
    "### Ejercicio 9.2\n",
    "\n",
    "(5 puntos)\n",
    "\n",
    "Modifica la función `covid_chile_chart` tal que reciba una fecha y una columna. Luego, debe filtrar `casos_geo` con registros de la fecha seleccionada y graficar un mapa donde las regiones se colereen según la columna escogida. "
   ]
  },
  {
   "cell_type": "code",
   "execution_count": null,
   "metadata": {},
   "outputs": [],
   "source": [
    "def covid_chile_chart(fecha, col):\n",
    "    \n",
    "    fecha = pd.to_datetime(fecha)\n",
    "    data = casos_geo.loc[lambda x: x[\"fecha\"] == fecha]\n",
    "    \n",
    "    chart = alt.Chart(data).mark_geoshape().encode(\n",
    "        color=alt.Color(col, title=col.capitalize().replace(\"_\", \" \"), scale=alt.Scale(scheme=\"lightgreyteal\"))\n",
    "    ).properties(\n",
    "        projection={'type': 'identity', 'reflectY': True},\n",
    "        width=150,\n",
    "        height=400\n",
    "    )\n",
    "    \n",
    "    chart.display()\n",
    "    return"
   ]
  },
  {
   "cell_type": "markdown",
   "metadata": {},
   "source": [
    "Prueba con lo siguiente"
   ]
  },
  {
   "cell_type": "code",
   "execution_count": null,
   "metadata": {},
   "outputs": [],
   "source": [
    "fecha = \"2020-04-13\"\n",
    "col = \"tasa\"\n",
    "covid_chile_chart(fecha, col)"
   ]
  },
  {
   "cell_type": "markdown",
   "metadata": {},
   "source": [
    "### Ejercicio 9.3\n",
    "\n",
    "(5 puntos)\n",
    "\n",
    "Ahora utilizando `widgets` generaremos el dashboard interactivo. Define lo siguiente:\n",
    "\n",
    "* col_widget: Un `widgets.Dropdown` donde las opciones a seleccionar sean las columnas `poblacion`, `casos_confirmados`, `tasa`, `casos_activos` y `fallecidos`. Además, el argumento `description` debe ser `Columna`.\n",
    "* fecha_widget: Un `widgets.DatePicker` donde el argumento `description` sea `Fecha`.\n",
    "* Ambos widgets deben tener el argumento `continuous_update=False`"
   ]
  },
  {
   "cell_type": "code",
   "execution_count": null,
   "metadata": {},
   "outputs": [],
   "source": [
    "import ipywidgets as widgets\n",
    "from ipywidgets import interactive, interact"
   ]
  },
  {
   "cell_type": "code",
   "execution_count": null,
   "metadata": {},
   "outputs": [],
   "source": [
    "col_widget = widgets.Dropdown(options=[(\"Población\",\"poblacion\"),(\"Casos Confirmados\",\"casos_confirmados\"),(\"Tasa\",\"tasa\"),(\"Casos Activos\",\"casos_activos\"),(\"Fallecidos\",\"fallecidos\")],\n",
    "                             continous_update=False)"
   ]
  },
  {
   "cell_type": "code",
   "execution_count": null,
   "metadata": {},
   "outputs": [],
   "source": [
    "fecha_inicial=pd.to_datetime(\"2020-04-13\")\n",
    "\n",
    "fecha_widget = widgets.DatePicker(\n",
    "    description='Fecha',\n",
    "    continous_update=False,\n",
    "    value=fecha_inicial\n",
    ")"
   ]
  },
  {
   "cell_type": "markdown",
   "metadata": {},
   "source": [
    "Finalmente, haciendo uso de `interactive`, la función `covid_chile_chart` y todos los widgets es posible crear un _dashboard_ interactivo con los datos de Covid-19.\n",
    "\n",
    "Respira profundo y explora tu creación!"
   ]
  },
  {
   "cell_type": "code",
   "execution_count": null,
   "metadata": {},
   "outputs": [],
   "source": [
    "covid_dashboard = interactive(\n",
    "    covid_chile_chart,\n",
    "    fecha=fecha_widget,\n",
    "    col=col_widget\n",
    ")\n",
    "covid_dashboard"
   ]
  },
  {
   "cell_type": "markdown",
   "metadata": {},
   "source": [
    "**Comentarios:** El dashboard interactivo parece muy util si se quiere comparar distintas situaciones en una cierta fecha a nivel nacional."
   ]
  }
 ],
 "metadata": {
  "kernelspec": {
   "display_name": "Python 3",
   "language": "python",
   "name": "python3"
  },
  "language_info": {
   "codemirror_mode": {
    "name": "ipython",
    "version": 3
   },
   "file_extension": ".py",
   "mimetype": "text/x-python",
   "name": "python",
   "nbconvert_exporter": "python",
   "pygments_lexer": "ipython3",
   "version": "3.7.8"
  }
 },
 "nbformat": 4,
 "nbformat_minor": 4
}
